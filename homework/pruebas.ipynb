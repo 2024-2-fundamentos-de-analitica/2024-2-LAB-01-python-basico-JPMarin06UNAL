{
 "cells": [
  {
   "cell_type": "code",
   "execution_count": 12,
   "metadata": {},
   "outputs": [],
   "source": [
    "def pregunta_01():\n",
    "\n",
    "    suma = 0\n",
    "    with open(\"../files/input/data.csv\", \"r\") as file:\n",
    "        for line in file:\n",
    "            columns = line.strip().split(\"\\t\")\n",
    "            suma += int(columns[1])\n",
    "    return suma"
   ]
  },
  {
   "cell_type": "code",
   "execution_count": 13,
   "metadata": {},
   "outputs": [
    {
     "data": {
      "text/plain": [
       "214"
      ]
     },
     "execution_count": 13,
     "metadata": {},
     "output_type": "execute_result"
    }
   ],
   "source": [
    "pregunta_01()"
   ]
  },
  {
   "cell_type": "code",
   "execution_count": 27,
   "metadata": {},
   "outputs": [],
   "source": [
    "def pregunta_02():\n",
    "    dict = {}\n",
    "    with open(\"../files/input/data.csv\", \"r\") as file:\n",
    "        \n",
    "        for line in file:\n",
    "            columns = line.strip().split(\"\\t\")\n",
    "            if columns[0] in dict:\n",
    "                dict[columns[0]] += 1\n",
    "            else:\n",
    "                dict[columns[0]] = 1\n",
    "\n",
    "    return sorted(tuple(dict.items()))"
   ]
  },
  {
   "cell_type": "code",
   "execution_count": 28,
   "metadata": {},
   "outputs": [
    {
     "name": "stdout",
     "output_type": "stream",
     "text": [
      "[('A', 8), ('B', 7), ('C', 5), ('D', 6), ('E', 14)]\n"
     ]
    }
   ],
   "source": [
    "print(pregunta_02())"
   ]
  },
  {
   "cell_type": "markdown",
   "metadata": {},
   "source": [
    "Retorne la suma de la columna 2 por cada letra de la primera columna como\n",
    "    una lista de tuplas (letra, suma) ordendas alfabeticamente.\n",
    "\n",
    "    Rta/\n",
    "    [('A', 53), ('B', 36), ('C', 27), ('D', 31), ('E', 67)]\n"
   ]
  },
  {
   "cell_type": "code",
   "execution_count": 38,
   "metadata": {},
   "outputs": [],
   "source": [
    "def pregunta_03():\n",
    "    dict = {}\n",
    "    with open(\"../files/input/data.csv\", \"r\") as file:\n",
    "        print(file)\n",
    "        \n",
    "        for line in file:\n",
    "            columns = line.strip().split(\"\\t\")\n",
    "            if columns[0] in dict:\n",
    "                dict[columns[0]] += int(columns[1])\n",
    "            else:\n",
    "                dict[columns[0]] = int(columns[1])\n",
    "\n",
    "    return sorted(tuple(dict.items()))"
   ]
  },
  {
   "cell_type": "code",
   "execution_count": 39,
   "metadata": {},
   "outputs": [
    {
     "name": "stdout",
     "output_type": "stream",
     "text": [
      "<_io.TextIOWrapper name='../files/input/data.csv' mode='r' encoding='UTF-8'>\n",
      "[('A', 53), ('B', 36), ('C', 27), ('D', 31), ('E', 67)]\n"
     ]
    }
   ],
   "source": [
    "print(pregunta_03())"
   ]
  },
  {
   "cell_type": "markdown",
   "metadata": {},
   "source": [
    "La columna 3 contiene una fecha en formato `YYYY-MM-DD`. Retorne la\n",
    "    cantidad de registros por cada mes, tal como se muestra a continuación.\n",
    "\n",
    "    Rta/\n",
    "    [('01', 3),\n",
    "     ('02', 4),\n",
    "     ('03', 2),\n",
    "     ('04', 4),\n",
    "     ('05', 3),\n",
    "     ('06', 3),\n",
    "     ('07', 5),\n",
    "     ('08', 6),\n",
    "     ('09', 3),\n",
    "     ('10', 2),\n",
    "     ('11', 2),\n",
    "     ('12', 3)]"
   ]
  },
  {
   "cell_type": "code",
   "execution_count": 56,
   "metadata": {},
   "outputs": [],
   "source": [
    "def pregunta_04():\n",
    "    dict = {}\n",
    "    with open(\"../files/input/data.csv\", \"r\") as file:\n",
    "        \n",
    "        for line in file:\n",
    "            columns = line.strip().split(\"\\t\")\n",
    "            date = columns[2].split(\"-\")\n",
    "            if date[1] in dict:\n",
    "                dict[date[1]] += 1\n",
    "            else:\n",
    "                dict[date[1]] = 1\n",
    "\n",
    "    return sorted(tuple(dict.items()))"
   ]
  },
  {
   "cell_type": "code",
   "execution_count": 57,
   "metadata": {},
   "outputs": [
    {
     "name": "stdout",
     "output_type": "stream",
     "text": [
      "[('01', 3), ('02', 4), ('03', 2), ('04', 4), ('05', 3), ('06', 3), ('07', 5), ('08', 6), ('09', 3), ('10', 2), ('11', 2), ('12', 3)]\n"
     ]
    }
   ],
   "source": [
    "print(pregunta_04())"
   ]
  },
  {
   "cell_type": "markdown",
   "metadata": {},
   "source": [
    "Retorne una lista de tuplas con el valor maximo y minimo de la columna 2\n",
    "    por cada letra de la columa 1.\n",
    "\n",
    "    Rta/\n",
    "    [('A', 9, 2), ('B', 9, 1), ('C', 9, 0), ('D', 8, 3), ('E', 9, 1)]"
   ]
  },
  {
   "cell_type": "code",
   "execution_count": 94,
   "metadata": {},
   "outputs": [
    {
     "name": "stdout",
     "output_type": "stream",
     "text": [
      "{'B', 'D', 'A', 'E', 'C'}\n",
      "[('A', []), ('B', []), ('C', []), ('D', []), ('E', [])]\n"
     ]
    }
   ],
   "source": [
    "def pregunta_05():\n",
    "    dict = {}\n",
    "    letter_list = []\n",
    "\n",
    "    with open(\"../files/input/data.csv\", \"r\") as file:\n",
    "        for line in file:\n",
    "            columns = line.strip().split(\"\\t\")\n",
    "            letter = columns[0]\n",
    "            letter_list.append(letter)\n",
    "        letter_list = set(letter_list)\n",
    "\n",
    "        dict = {letter: [] for letter in letter_list}\n",
    "        \n",
    "        for line in file:\n",
    "            columns = line.strip().split(\"\\t\")\n",
    "            letter = columns[0]\n",
    "            value = columns[1]\n",
    "\n",
    "            if letter in dict:\n",
    "                dict[letter].append(value)\n",
    "                print(dict)\n",
    "            \n",
    "            \n",
    "\n",
    "\n",
    "            \n",
    "            \n",
    "    \n",
    "    return sorted(tuple(dict.items()))\n",
    "print(pregunta_05())"
   ]
  },
  {
   "cell_type": "code",
   "execution_count": null,
   "metadata": {},
   "outputs": [],
   "source": []
  }
 ],
 "metadata": {
  "kernelspec": {
   "display_name": "base",
   "language": "python",
   "name": "python3"
  },
  "language_info": {
   "codemirror_mode": {
    "name": "ipython",
    "version": 3
   },
   "file_extension": ".py",
   "mimetype": "text/x-python",
   "name": "python",
   "nbconvert_exporter": "python",
   "pygments_lexer": "ipython3",
   "version": "3.8.5"
  }
 },
 "nbformat": 4,
 "nbformat_minor": 2
}
